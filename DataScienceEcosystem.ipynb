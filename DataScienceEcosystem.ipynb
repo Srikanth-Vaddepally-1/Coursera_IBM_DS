{
 "cells": [
  {
   "cell_type": "markdown",
   "id": "a9492d8f-4442-49e2-993f-ef573e69dc2a",
   "metadata": {},
   "source": [
    "# Data Science Tools and Ecosystem\n"
   ]
  },
  {
   "cell_type": "markdown",
   "id": "a01ff55e-d752-471a-aeb3-55e32c5b7c9d",
   "metadata": {},
   "source": [
    "In this notebook, an overview of Data Science Tools and Ecosystem is summarized.\n"
   ]
  },
  {
   "cell_type": "markdown",
   "id": "3f5c0956-918b-4e48-bc8c-4a0fa93cc926",
   "metadata": {},
   "source": [
    "**Objectives:**\n",
    "\n",
    "- List popular languages for Data Science.\n",
    "- Summarize commonly used libraries in Data Science.\n",
    "- Identify development environment tools used in Data Science.\n",
    "- Demonstrate evaluating arithmetic expressions in Python.\n",
    "- Convert minutes to hours using Python.\n"
   ]
  },
  {
   "cell_type": "markdown",
   "id": "f3b3a790-cd2c-4d1d-9fe4-c3c4d078d6ff",
   "metadata": {},
   "source": [
    "Some of the popular languages that Data Scientists use are:\n",
    "\n",
    "1. Python\n",
    "2. R\n",
    "3. SQL\n",
    "4. Julia\n"
   ]
  },
  {
   "cell_type": "markdown",
   "id": "2304ee69-171c-46ac-9c70-c18bfc8838a4",
   "metadata": {},
   "source": [
    "Some of the commonly used libraries used by Data Scientists include:\n",
    "\n",
    "1. Pandas\n",
    "2. NumPy\n",
    "3. Matplotlib\n",
    "4. Scikit-learn\n"
   ]
  },
  {
   "cell_type": "markdown",
   "id": "e5cf182a-3b82-45a8-9aac-c94feeec6f39",
   "metadata": {},
   "source": [
    "| Data Science Tools     |\n",
    "|:-----------------------|\n",
    "| Jupyter Notebook        |\n",
    "| Apache Zeppelin         |\n",
    "| RStudio                 |\n"
   ]
  },
  {
   "cell_type": "markdown",
   "id": "e853c08e-1367-4004-9b9b-1465788447eb",
   "metadata": {},
   "source": [
    "### Below are a few examples of evaluating arithmetic expressions in Python.\n"
   ]
  },
  {
   "cell_type": "code",
   "execution_count": 1,
   "id": "389bc9a9-09ab-46ce-b1fe-e05bd3bd59f5",
   "metadata": {},
   "outputs": [
    {
     "data": {
      "text/plain": [
       "17"
      ]
     },
     "execution_count": 1,
     "metadata": {},
     "output_type": "execute_result"
    }
   ],
   "source": [
    "# This is a simple arithmetic expression to multiply then add integers.\n",
    "result = (3 * 4) + 5\n",
    "result\n"
   ]
  },
  {
   "cell_type": "code",
   "execution_count": 2,
   "id": "55e89b35-2646-4203-9e88-48c80637552c",
   "metadata": {},
   "outputs": [
    {
     "data": {
      "text/plain": [
       "3.3333333333333335"
      ]
     },
     "execution_count": 2,
     "metadata": {},
     "output_type": "execute_result"
    }
   ],
   "source": [
    "# This will convert 200 minutes to hours\n",
    "hours = 200 / 60\n",
    "hours\n"
   ]
  },
  {
   "cell_type": "markdown",
   "id": "4a55f604-bfca-4630-ab70-111c17cd226e",
   "metadata": {},
   "source": [
    "## Author\n",
    "\n",
    "Srikanth Vaddepally\n"
   ]
  },
  {
   "cell_type": "code",
   "execution_count": null,
   "id": "adb08dc3-cb76-4c0c-98d3-c304082edcdc",
   "metadata": {},
   "outputs": [],
   "source": []
  }
 ],
 "metadata": {
  "kernelspec": {
   "display_name": "Python 3 (ipykernel)",
   "language": "python",
   "name": "python3"
  },
  "language_info": {
   "codemirror_mode": {
    "name": "ipython",
    "version": 3
   },
   "file_extension": ".py",
   "mimetype": "text/x-python",
   "name": "python",
   "nbconvert_exporter": "python",
   "pygments_lexer": "ipython3",
   "version": "3.12.7"
  }
 },
 "nbformat": 4,
 "nbformat_minor": 5
}
